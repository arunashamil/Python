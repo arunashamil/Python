{
 "cells": [
  {
   "cell_type": "code",
   "execution_count": 1,
   "id": "52ef8500",
   "metadata": {},
   "outputs": [],
   "source": [
    "import pandas as pd"
   ]
  },
  {
   "cell_type": "code",
   "execution_count": 2,
   "id": "6c88a2aa",
   "metadata": {},
   "outputs": [],
   "source": [
    "trs = pd.read_csv('transactions.csv')"
   ]
  },
  {
   "cell_type": "code",
   "execution_count": 3,
   "id": "2d0dafe5",
   "metadata": {},
   "outputs": [
    {
     "data": {
      "text/html": [
       "<div>\n",
       "<style scoped>\n",
       "    .dataframe tbody tr th:only-of-type {\n",
       "        vertical-align: middle;\n",
       "    }\n",
       "\n",
       "    .dataframe tbody tr th {\n",
       "        vertical-align: top;\n",
       "    }\n",
       "\n",
       "    .dataframe thead th {\n",
       "        text-align: right;\n",
       "    }\n",
       "</style>\n",
       "<table border=\"1\" class=\"dataframe\">\n",
       "  <thead>\n",
       "    <tr style=\"text-align: right;\">\n",
       "      <th></th>\n",
       "      <th>Unnamed: 0</th>\n",
       "      <th>CONTRACTOR</th>\n",
       "      <th>STATUS</th>\n",
       "      <th>SUM</th>\n",
       "    </tr>\n",
       "  </thead>\n",
       "  <tbody>\n",
       "    <tr>\n",
       "      <th>0</th>\n",
       "      <td>0</td>\n",
       "      <td>Acme, Inc</td>\n",
       "      <td>WAITING</td>\n",
       "      <td>415</td>\n",
       "    </tr>\n",
       "    <tr>\n",
       "      <th>1</th>\n",
       "      <td>1</td>\n",
       "      <td>Umbrella, Inc</td>\n",
       "      <td>WAITING</td>\n",
       "      <td>646</td>\n",
       "    </tr>\n",
       "    <tr>\n",
       "      <th>2</th>\n",
       "      <td>2</td>\n",
       "      <td>Umbrella, Inc</td>\n",
       "      <td>OK</td>\n",
       "      <td>780</td>\n",
       "    </tr>\n",
       "    <tr>\n",
       "      <th>3</th>\n",
       "      <td>3</td>\n",
       "      <td>Umbrella, Inc</td>\n",
       "      <td>CANCELED</td>\n",
       "      <td>887</td>\n",
       "    </tr>\n",
       "    <tr>\n",
       "      <th>4</th>\n",
       "      <td>4</td>\n",
       "      <td>Umbrella, Inc</td>\n",
       "      <td>OK</td>\n",
       "      <td>255</td>\n",
       "    </tr>\n",
       "    <tr>\n",
       "      <th>...</th>\n",
       "      <td>...</td>\n",
       "      <td>...</td>\n",
       "      <td>...</td>\n",
       "      <td>...</td>\n",
       "    </tr>\n",
       "    <tr>\n",
       "      <th>9995</th>\n",
       "      <td>9995</td>\n",
       "      <td>Acme, Inc</td>\n",
       "      <td>OK</td>\n",
       "      <td>881</td>\n",
       "    </tr>\n",
       "    <tr>\n",
       "      <th>9996</th>\n",
       "      <td>9996</td>\n",
       "      <td>Acme, Inc</td>\n",
       "      <td>OK</td>\n",
       "      <td>160</td>\n",
       "    </tr>\n",
       "    <tr>\n",
       "      <th>9997</th>\n",
       "      <td>9997</td>\n",
       "      <td>Umbrella, Inc</td>\n",
       "      <td>OK</td>\n",
       "      <td>683</td>\n",
       "    </tr>\n",
       "    <tr>\n",
       "      <th>9998</th>\n",
       "      <td>9998</td>\n",
       "      <td>Umbrella, Inc</td>\n",
       "      <td>WAITING</td>\n",
       "      <td>805</td>\n",
       "    </tr>\n",
       "    <tr>\n",
       "      <th>9999</th>\n",
       "      <td>9999</td>\n",
       "      <td>Acme, Inc</td>\n",
       "      <td>WAITING</td>\n",
       "      <td>982</td>\n",
       "    </tr>\n",
       "  </tbody>\n",
       "</table>\n",
       "<p>10000 rows × 4 columns</p>\n",
       "</div>"
      ],
      "text/plain": [
       "      Unnamed: 0     CONTRACTOR    STATUS  SUM\n",
       "0              0      Acme, Inc   WAITING  415\n",
       "1              1  Umbrella, Inc   WAITING  646\n",
       "2              2  Umbrella, Inc        OK  780\n",
       "3              3  Umbrella, Inc  CANCELED  887\n",
       "4              4  Umbrella, Inc        OK  255\n",
       "...          ...            ...       ...  ...\n",
       "9995        9995      Acme, Inc        OK  881\n",
       "9996        9996      Acme, Inc        OK  160\n",
       "9997        9997  Umbrella, Inc        OK  683\n",
       "9998        9998  Umbrella, Inc   WAITING  805\n",
       "9999        9999      Acme, Inc   WAITING  982\n",
       "\n",
       "[10000 rows x 4 columns]"
      ]
     },
     "execution_count": 3,
     "metadata": {},
     "output_type": "execute_result"
    }
   ],
   "source": [
    "trs"
   ]
  },
  {
   "cell_type": "code",
   "execution_count": 5,
   "id": "e18fa29c",
   "metadata": {},
   "outputs": [],
   "source": [
    "def is_ok(df):\n",
    "    if df.STATUS == 'OK':\n",
    "        return df.SUM\n",
    "\n",
    "sums = trs.apply(is_ok, axis = 'columns')"
   ]
  },
  {
   "cell_type": "code",
   "execution_count": 6,
   "id": "8508e720",
   "metadata": {},
   "outputs": [
    {
     "data": {
      "text/plain": [
       "0         NaN\n",
       "1         NaN\n",
       "2       780.0\n",
       "3         NaN\n",
       "4       255.0\n",
       "        ...  \n",
       "9995    881.0\n",
       "9996    160.0\n",
       "9997    683.0\n",
       "9998      NaN\n",
       "9999      NaN\n",
       "Length: 10000, dtype: float64"
      ]
     },
     "execution_count": 6,
     "metadata": {},
     "output_type": "execute_result"
    }
   ],
   "source": [
    "sums"
   ]
  },
  {
   "cell_type": "code",
   "execution_count": 8,
   "id": "692ced5a",
   "metadata": {},
   "outputs": [],
   "source": [
    "sorted_sums = sums.sort_values()"
   ]
  },
  {
   "cell_type": "code",
   "execution_count": 9,
   "id": "e05ff08b",
   "metadata": {},
   "outputs": [
    {
     "data": {
      "text/plain": [
       "6999    100.0\n",
       "1421    100.0\n",
       "7262    100.0\n",
       "3816    100.0\n",
       "5027    100.0\n",
       "        ...  \n",
       "9988      NaN\n",
       "9991      NaN\n",
       "9993      NaN\n",
       "9998      NaN\n",
       "9999      NaN\n",
       "Length: 10000, dtype: float64"
      ]
     },
     "execution_count": 9,
     "metadata": {},
     "output_type": "execute_result"
    }
   ],
   "source": [
    "sorted_sums"
   ]
  },
  {
   "cell_type": "code",
   "execution_count": 10,
   "id": "9d0ae29d",
   "metadata": {},
   "outputs": [],
   "source": [
    "sorted_sums = sums.sort_values(ascending=False)"
   ]
  },
  {
   "cell_type": "code",
   "execution_count": 11,
   "id": "a12a95a6",
   "metadata": {},
   "outputs": [
    {
     "ename": "NameError",
     "evalue": "name 'sorted_nums' is not defined",
     "output_type": "error",
     "traceback": [
      "\u001b[1;31m---------------------------------------------------------------------------\u001b[0m",
      "\u001b[1;31mNameError\u001b[0m                                 Traceback (most recent call last)",
      "\u001b[1;32m<ipython-input-11-884b38291085>\u001b[0m in \u001b[0;36m<module>\u001b[1;34m\u001b[0m\n\u001b[1;32m----> 1\u001b[1;33m \u001b[0msorted_nums\u001b[0m\u001b[1;33m\u001b[0m\u001b[1;33m\u001b[0m\u001b[0m\n\u001b[0m",
      "\u001b[1;31mNameError\u001b[0m: name 'sorted_nums' is not defined"
     ]
    }
   ],
   "source": [
    "sorted_nums"
   ]
  },
  {
   "cell_type": "code",
   "execution_count": 12,
   "id": "04f0782b",
   "metadata": {},
   "outputs": [
    {
     "data": {
      "text/plain": [
       "5085    100500.0\n",
       "4451      1000.0\n",
       "1348       999.0\n",
       "6398       999.0\n",
       "9225       999.0\n",
       "          ...   \n",
       "9988         NaN\n",
       "9991         NaN\n",
       "9993         NaN\n",
       "9998         NaN\n",
       "9999         NaN\n",
       "Length: 10000, dtype: float64"
      ]
     },
     "execution_count": 12,
     "metadata": {},
     "output_type": "execute_result"
    }
   ],
   "source": [
    "sorted_sums"
   ]
  },
  {
   "cell_type": "code",
   "execution_count": 13,
   "id": "c696d08d",
   "metadata": {},
   "outputs": [
    {
     "ename": "SyntaxError",
     "evalue": "invalid syntax (<ipython-input-13-48daee6dacb3>, line 1)",
     "output_type": "error",
     "traceback": [
      "\u001b[1;36m  File \u001b[1;32m\"<ipython-input-13-48daee6dacb3>\"\u001b[1;36m, line \u001b[1;32m1\u001b[0m\n\u001b[1;33m    highest_3 = sorted_sums.iloc(0:3)\u001b[0m\n\u001b[1;37m                                  ^\u001b[0m\n\u001b[1;31mSyntaxError\u001b[0m\u001b[1;31m:\u001b[0m invalid syntax\n"
     ]
    }
   ],
   "source": [
    "highest_3 = sorted_sums.iloc(0:3)"
   ]
  },
  {
   "cell_type": "code",
   "execution_count": 14,
   "id": "e81b8ece",
   "metadata": {},
   "outputs": [],
   "source": [
    "highest_3 = sorted_sums.iloc[0:3]"
   ]
  },
  {
   "cell_type": "code",
   "execution_count": 15,
   "id": "94b0d787",
   "metadata": {},
   "outputs": [
    {
     "data": {
      "text/plain": [
       "5085    100500.0\n",
       "4451      1000.0\n",
       "1348       999.0\n",
       "dtype: float64"
      ]
     },
     "execution_count": 15,
     "metadata": {},
     "output_type": "execute_result"
    }
   ],
   "source": [
    "highest_3"
   ]
  },
  {
   "cell_type": "code",
   "execution_count": 16,
   "id": "4689f39c",
   "metadata": {},
   "outputs": [
    {
     "data": {
      "text/plain": [
       "0         NaN\n",
       "1         NaN\n",
       "2       780.0\n",
       "3         NaN\n",
       "4       255.0\n",
       "        ...  \n",
       "9995      NaN\n",
       "9996      NaN\n",
       "9997    683.0\n",
       "9998      NaN\n",
       "9999      NaN\n",
       "Length: 10000, dtype: float64"
      ]
     },
     "execution_count": 16,
     "metadata": {},
     "output_type": "execute_result"
    }
   ],
   "source": [
    "def um_ok(df):\n",
    "    if (df.STATUS == 'OK') & (df.CONTRACTOR == 'Umbrella, Inc'):\n",
    "        return df.SUM\n",
    "trs.apply(um_ok, axis = 'columns')"
   ]
  },
  {
   "cell_type": "code",
   "execution_count": 17,
   "id": "4df56ec8",
   "metadata": {},
   "outputs": [
    {
     "data": {
      "text/plain": [
       "925719.0"
      ]
     },
     "execution_count": 17,
     "metadata": {},
     "output_type": "execute_result"
    }
   ],
   "source": [
    "def um_ok(df):\n",
    "    if (df.STATUS == 'OK') & (df.CONTRACTOR == 'Umbrella, Inc'):\n",
    "        return df.SUM\n",
    "trs.apply(um_ok, axis = 'columns').sum()"
   ]
  },
  {
   "cell_type": "code",
   "execution_count": null,
   "id": "55a49b65",
   "metadata": {},
   "outputs": [],
   "source": []
  }
 ],
 "metadata": {
  "kernelspec": {
   "display_name": "Python 3",
   "language": "python",
   "name": "python3"
  },
  "language_info": {
   "codemirror_mode": {
    "name": "ipython",
    "version": 3
   },
   "file_extension": ".py",
   "mimetype": "text/x-python",
   "name": "python",
   "nbconvert_exporter": "python",
   "pygments_lexer": "ipython3",
   "version": "3.8.8"
  }
 },
 "nbformat": 4,
 "nbformat_minor": 5
}
