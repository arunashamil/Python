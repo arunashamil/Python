{
 "cells": [
  {
   "cell_type": "code",
   "execution_count": 1,
   "id": "69329d40",
   "metadata": {},
   "outputs": [],
   "source": [
    "import pandas as pd"
   ]
  },
  {
   "cell_type": "code",
   "execution_count": 2,
   "id": "7d2f80f3",
   "metadata": {},
   "outputs": [
    {
     "data": {
      "text/html": [
       "<div>\n",
       "<style scoped>\n",
       "    .dataframe tbody tr th:only-of-type {\n",
       "        vertical-align: middle;\n",
       "    }\n",
       "\n",
       "    .dataframe tbody tr th {\n",
       "        vertical-align: top;\n",
       "    }\n",
       "\n",
       "    .dataframe thead th {\n",
       "        text-align: right;\n",
       "    }\n",
       "</style>\n",
       "<table border=\"1\" class=\"dataframe\">\n",
       "  <thead>\n",
       "    <tr style=\"text-align: right;\">\n",
       "      <th></th>\n",
       "      <th>Unnamed: 0</th>\n",
       "      <th>CARGO</th>\n",
       "      <th>PRICE</th>\n",
       "      <th>WEIGHT</th>\n",
       "    </tr>\n",
       "  </thead>\n",
       "  <tbody>\n",
       "    <tr>\n",
       "      <th>0</th>\n",
       "      <td>0</td>\n",
       "      <td>Nimble</td>\n",
       "      <td>1540</td>\n",
       "      <td>16</td>\n",
       "    </tr>\n",
       "    <tr>\n",
       "      <th>1</th>\n",
       "      <td>1</td>\n",
       "      <td>Nimble</td>\n",
       "      <td>1635</td>\n",
       "      <td>20</td>\n",
       "    </tr>\n",
       "    <tr>\n",
       "      <th>2</th>\n",
       "      <td>2</td>\n",
       "      <td>Nimble</td>\n",
       "      <td>1592</td>\n",
       "      <td>15</td>\n",
       "    </tr>\n",
       "    <tr>\n",
       "      <th>3</th>\n",
       "      <td>3</td>\n",
       "      <td>Nimble</td>\n",
       "      <td>1173</td>\n",
       "      <td>10</td>\n",
       "    </tr>\n",
       "    <tr>\n",
       "      <th>4</th>\n",
       "      <td>4</td>\n",
       "      <td>Nimble</td>\n",
       "      <td>1909</td>\n",
       "      <td>11</td>\n",
       "    </tr>\n",
       "    <tr>\n",
       "      <th>...</th>\n",
       "      <td>...</td>\n",
       "      <td>...</td>\n",
       "      <td>...</td>\n",
       "      <td>...</td>\n",
       "    </tr>\n",
       "    <tr>\n",
       "      <th>645</th>\n",
       "      <td>95</td>\n",
       "      <td>Medium</td>\n",
       "      <td>398</td>\n",
       "      <td>58</td>\n",
       "    </tr>\n",
       "    <tr>\n",
       "      <th>646</th>\n",
       "      <td>96</td>\n",
       "      <td>Medium</td>\n",
       "      <td>321</td>\n",
       "      <td>107</td>\n",
       "    </tr>\n",
       "    <tr>\n",
       "      <th>647</th>\n",
       "      <td>97</td>\n",
       "      <td>Medium</td>\n",
       "      <td>339</td>\n",
       "      <td>53</td>\n",
       "    </tr>\n",
       "    <tr>\n",
       "      <th>648</th>\n",
       "      <td>98</td>\n",
       "      <td>Medium</td>\n",
       "      <td>329</td>\n",
       "      <td>128</td>\n",
       "    </tr>\n",
       "    <tr>\n",
       "      <th>649</th>\n",
       "      <td>99</td>\n",
       "      <td>Medium</td>\n",
       "      <td>355</td>\n",
       "      <td>122</td>\n",
       "    </tr>\n",
       "  </tbody>\n",
       "</table>\n",
       "<p>650 rows × 4 columns</p>\n",
       "</div>"
      ],
      "text/plain": [
       "     Unnamed: 0   CARGO  PRICE  WEIGHT\n",
       "0             0  Nimble   1540      16\n",
       "1             1  Nimble   1635      20\n",
       "2             2  Nimble   1592      15\n",
       "3             3  Nimble   1173      10\n",
       "4             4  Nimble   1909      11\n",
       "..          ...     ...    ...     ...\n",
       "645          95  Medium    398      58\n",
       "646          96  Medium    321     107\n",
       "647          97  Medium    339      53\n",
       "648          98  Medium    329     128\n",
       "649          99  Medium    355     122\n",
       "\n",
       "[650 rows x 4 columns]"
      ]
     },
     "execution_count": 2,
     "metadata": {},
     "output_type": "execute_result"
    }
   ],
   "source": [
    "pd.read_csv('flights.csv')"
   ]
  },
  {
   "cell_type": "code",
   "execution_count": 3,
   "id": "4cd069a7",
   "metadata": {},
   "outputs": [],
   "source": [
    "fls = pd.read_csv('flights.csv')"
   ]
  },
  {
   "cell_type": "code",
   "execution_count": 4,
   "id": "ab0a308a",
   "metadata": {},
   "outputs": [
    {
     "data": {
      "text/html": [
       "<div>\n",
       "<style scoped>\n",
       "    .dataframe tbody tr th:only-of-type {\n",
       "        vertical-align: middle;\n",
       "    }\n",
       "\n",
       "    .dataframe tbody tr th {\n",
       "        vertical-align: top;\n",
       "    }\n",
       "\n",
       "    .dataframe thead th {\n",
       "        text-align: right;\n",
       "    }\n",
       "</style>\n",
       "<table border=\"1\" class=\"dataframe\">\n",
       "  <thead>\n",
       "    <tr style=\"text-align: right;\">\n",
       "      <th></th>\n",
       "      <th>Unnamed: 0</th>\n",
       "      <th>CARGO</th>\n",
       "      <th>PRICE</th>\n",
       "      <th>WEIGHT</th>\n",
       "    </tr>\n",
       "  </thead>\n",
       "  <tbody>\n",
       "    <tr>\n",
       "      <th>0</th>\n",
       "      <td>0</td>\n",
       "      <td>Nimble</td>\n",
       "      <td>1540</td>\n",
       "      <td>16</td>\n",
       "    </tr>\n",
       "    <tr>\n",
       "      <th>1</th>\n",
       "      <td>1</td>\n",
       "      <td>Nimble</td>\n",
       "      <td>1635</td>\n",
       "      <td>20</td>\n",
       "    </tr>\n",
       "    <tr>\n",
       "      <th>2</th>\n",
       "      <td>2</td>\n",
       "      <td>Nimble</td>\n",
       "      <td>1592</td>\n",
       "      <td>15</td>\n",
       "    </tr>\n",
       "    <tr>\n",
       "      <th>3</th>\n",
       "      <td>3</td>\n",
       "      <td>Nimble</td>\n",
       "      <td>1173</td>\n",
       "      <td>10</td>\n",
       "    </tr>\n",
       "    <tr>\n",
       "      <th>4</th>\n",
       "      <td>4</td>\n",
       "      <td>Nimble</td>\n",
       "      <td>1909</td>\n",
       "      <td>11</td>\n",
       "    </tr>\n",
       "    <tr>\n",
       "      <th>...</th>\n",
       "      <td>...</td>\n",
       "      <td>...</td>\n",
       "      <td>...</td>\n",
       "      <td>...</td>\n",
       "    </tr>\n",
       "    <tr>\n",
       "      <th>645</th>\n",
       "      <td>95</td>\n",
       "      <td>Medium</td>\n",
       "      <td>398</td>\n",
       "      <td>58</td>\n",
       "    </tr>\n",
       "    <tr>\n",
       "      <th>646</th>\n",
       "      <td>96</td>\n",
       "      <td>Medium</td>\n",
       "      <td>321</td>\n",
       "      <td>107</td>\n",
       "    </tr>\n",
       "    <tr>\n",
       "      <th>647</th>\n",
       "      <td>97</td>\n",
       "      <td>Medium</td>\n",
       "      <td>339</td>\n",
       "      <td>53</td>\n",
       "    </tr>\n",
       "    <tr>\n",
       "      <th>648</th>\n",
       "      <td>98</td>\n",
       "      <td>Medium</td>\n",
       "      <td>329</td>\n",
       "      <td>128</td>\n",
       "    </tr>\n",
       "    <tr>\n",
       "      <th>649</th>\n",
       "      <td>99</td>\n",
       "      <td>Medium</td>\n",
       "      <td>355</td>\n",
       "      <td>122</td>\n",
       "    </tr>\n",
       "  </tbody>\n",
       "</table>\n",
       "<p>650 rows × 4 columns</p>\n",
       "</div>"
      ],
      "text/plain": [
       "     Unnamed: 0   CARGO  PRICE  WEIGHT\n",
       "0             0  Nimble   1540      16\n",
       "1             1  Nimble   1635      20\n",
       "2             2  Nimble   1592      15\n",
       "3             3  Nimble   1173      10\n",
       "4             4  Nimble   1909      11\n",
       "..          ...     ...    ...     ...\n",
       "645          95  Medium    398      58\n",
       "646          96  Medium    321     107\n",
       "647          97  Medium    339      53\n",
       "648          98  Medium    329     128\n",
       "649          99  Medium    355     122\n",
       "\n",
       "[650 rows x 4 columns]"
      ]
     },
     "execution_count": 4,
     "metadata": {},
     "output_type": "execute_result"
    }
   ],
   "source": [
    "fls"
   ]
  },
  {
   "cell_type": "code",
   "execution_count": 5,
   "id": "42586466",
   "metadata": {},
   "outputs": [
    {
     "data": {
      "text/plain": [
       "array(['Nimble', 'Jumbo', 'Medium'], dtype=object)"
      ]
     },
     "execution_count": 5,
     "metadata": {},
     "output_type": "execute_result"
    }
   ],
   "source": [
    "fls.CARGO.unique()"
   ]
  },
  {
   "cell_type": "code",
   "execution_count": 7,
   "id": "97234eb6",
   "metadata": {},
   "outputs": [
    {
     "data": {
      "text/plain": [
       "CARGO\n",
       "Jumbo      76795\n",
       "Medium     36312\n",
       "Nimble    752588\n",
       "Name: PRICE, dtype: int64"
      ]
     },
     "execution_count": 7,
     "metadata": {},
     "output_type": "execute_result"
    }
   ],
   "source": [
    "fls.groupby('CARGO').PRICE.sum()"
   ]
  },
  {
   "cell_type": "code",
   "execution_count": 32,
   "id": "e75f675f",
   "metadata": {},
   "outputs": [],
   "source": [
    "weight_series = fls.groupby('CARGO').WEIGHT.sum()"
   ]
  },
  {
   "cell_type": "code",
   "execution_count": 33,
   "id": "7a8f4621",
   "metadata": {},
   "outputs": [
    {
     "data": {
      "text/plain": [
       "CARGO\n",
       "Jumbo     18709\n",
       "Medium     9507\n",
       "Nimble     7545\n",
       "Name: WEIGHT, dtype: int64"
      ]
     },
     "execution_count": 33,
     "metadata": {},
     "output_type": "execute_result"
    }
   ],
   "source": [
    "weight_series"
   ]
  },
  {
   "cell_type": "code",
   "execution_count": 11,
   "id": "0256f650",
   "metadata": {},
   "outputs": [],
   "source": [
    "import matplotlib.pyplot as plt"
   ]
  },
  {
   "cell_type": "code",
   "execution_count": 12,
   "id": "a167a694",
   "metadata": {},
   "outputs": [],
   "source": [
    "price_series = fls.groupby('CARGO').PRICE.sum()"
   ]
  },
  {
   "cell_type": "code",
   "execution_count": 13,
   "id": "6d85e635",
   "metadata": {},
   "outputs": [
    {
     "data": {
      "text/plain": [
       "CARGO\n",
       "Jumbo      76795\n",
       "Medium     36312\n",
       "Nimble    752588\n",
       "Name: PRICE, dtype: int64"
      ]
     },
     "execution_count": 13,
     "metadata": {},
     "output_type": "execute_result"
    }
   ],
   "source": [
    "price_series"
   ]
  },
  {
   "cell_type": "code",
   "execution_count": 20,
   "id": "75ca41fc",
   "metadata": {},
   "outputs": [],
   "source": [
    "flights_series = fls.CARGO.value_counts()"
   ]
  },
  {
   "cell_type": "code",
   "execution_count": 21,
   "id": "7a118200",
   "metadata": {},
   "outputs": [
    {
     "data": {
      "text/plain": [
       "Nimble    500\n",
       "Medium    100\n",
       "Jumbo      50\n",
       "Name: CARGO, dtype: int64"
      ]
     },
     "execution_count": 21,
     "metadata": {},
     "output_type": "execute_result"
    }
   ],
   "source": [
    "flights_series"
   ]
  },
  {
   "cell_type": "code",
   "execution_count": 27,
   "id": "1249fb0c",
   "metadata": {},
   "outputs": [],
   "source": [
    "weight_series = fls.groupby('CARGO').WEIGHT.sum()"
   ]
  },
  {
   "cell_type": "code",
   "execution_count": 28,
   "id": "b0d5ae53",
   "metadata": {},
   "outputs": [],
   "source": [
    "df = pd.DataFrame({'CARGO': flights_series, 'PRICE': price_series, 'WEIGHT': weight_series}, index = fls.CARGO.unique())"
   ]
  },
  {
   "cell_type": "code",
   "execution_count": 31,
   "id": "e9eab31e",
   "metadata": {},
   "outputs": [
    {
     "data": {
      "image/png": "[encoded data removed]",
      "text/plain": [
       "<Figure size 1440x432 with 3 Axes>"
      ]
     },
     "metadata": {},
     "output_type": "display_data"
    }
   ],
   "source": [
    "plot = df.plot.pie(subplots=True, figsize=(20, 6))"
   ]
  },
  {
   "cell_type": "code",
   "execution_count": null,
   "id": "c414a5df",
   "metadata": {},
   "outputs": [],
   "source": []
  }
 ],
 "metadata": {
  "kernelspec": {
   "display_name": "Python 3",
   "language": "python",
   "name": "python3"
  },
  "language_info": {
   "codemirror_mode": {
    "name": "ipython",
    "version": 3
   },
   "file_extension": ".py",
   "mimetype": "text/x-python",
   "name": "python",
   "nbconvert_exporter": "python",
   "pygments_lexer": "ipython3",
   "version": "3.8.8"
  }
 },
 "nbformat": 4,
 "nbformat_minor": 5
}
